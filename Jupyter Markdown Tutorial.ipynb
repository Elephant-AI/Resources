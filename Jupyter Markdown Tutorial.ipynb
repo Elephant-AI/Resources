{
 "cells": [
  {
   "cell_type": "markdown",
   "id": "d9ed137e-7e4b-415a-9793-804abbb6eb03",
   "metadata": {
    "tags": []
   },
   "source": [
    "# <span style='color:#eb7325'> **JUPYTER MARKDOWN TUTORIAL** </span>"
   ]
  },
  {
   "cell_type": "markdown",
   "id": "072c1e05-f1d0-4eb6-8441-66cbee23b2e2",
   "metadata": {
    "tags": []
   },
   "source": [
    "- Content can be added using Markdown cells. \n",
    "- Use the cell menu to change the cell type to Markdown. "
   ]
  },
  {
   "cell_type": "markdown",
   "id": "1fdc245a-770d-45f1-8f12-4d302e311256",
   "metadata": {
    "jp-MarkdownHeadingCollapsed": true,
    "tags": []
   },
   "source": [
    "### Content types using Markdown\n",
    "\n",
    "1. Headings\n",
    "1. Emphasising Text\n",
    "1. Lists\n",
    "1. Embedding code\n",
    "1. Equations\n",
    "1. Hyperlinks\n",
    "1. Images\n",
    "1. Videos"
   ]
  },
  {
   "cell_type": "markdown",
   "id": "6073330b-9aef-4d31-aa5b-c95de1e3572a",
   "metadata": {
    "tags": []
   },
   "source": [
    "# <span style='color:#eb7325'>Headings </span>"
   ]
  },
  {
   "cell_type": "markdown",
   "id": "5cf7f6a4-da62-475d-ab8e-32cedbf285e4",
   "metadata": {
    "tags": []
   },
   "source": [
    "Add headings with # followed by a space"
   ]
  },
  {
   "cell_type": "markdown",
   "id": "fe3b8474-783c-419a-a683-e5f73546185d",
   "metadata": {
    "tags": []
   },
   "source": [
    "# Heading 1\n",
    "## Heading 2\n",
    "### Heading 3\n",
    "#### Heading 4\n",
    "##### Heading 5\n",
    "###### Heading 6\n"
   ]
  },
  {
   "cell_type": "markdown",
   "id": "e17211d8-2c6d-4e11-9860-7f4f17ff2308",
   "metadata": {
    "tags": []
   },
   "source": [
    "# <span style='color:#eb7325'>Emphasising Text </span>"
   ]
  },
  {
   "cell_type": "markdown",
   "id": "e12828c1-6938-4d12-8492-625135063a51",
   "metadata": {},
   "source": [
    "**bold text**"
   ]
  },
  {
   "cell_type": "markdown",
   "id": "32d276f1-138f-4696-b938-a9b156e388e1",
   "metadata": {},
   "source": [
    "_italics_"
   ]
  },
  {
   "cell_type": "markdown",
   "id": "c746a9c2-6bc8-427a-bafb-ab0e7edf3d16",
   "metadata": {},
   "source": [
    "***bold and italics***"
   ]
  },
  {
   "cell_type": "markdown",
   "id": "83baefdb-ab03-49a6-ae94-9c0a75c1f5e1",
   "metadata": {},
   "source": [
    "~~strikethrough~~  \n"
   ]
  },
  {
   "cell_type": "markdown",
   "id": "f276ea27-7639-4ba3-8773-ef51e43b552f",
   "metadata": {
    "tags": []
   },
   "source": [
    "# <span style='color:#eb7325'>Lists </span>"
   ]
  },
  {
   "cell_type": "markdown",
   "id": "5e331e73-13e9-49c9-b2d4-d7d9773c0bce",
   "metadata": {
    "jupyter": {
     "source_hidden": true
    },
    "tags": []
   },
   "source": [
    "Bullet points, and sub bullet points, can be added using dashes ( - ), asterisks ( * ), or plus signs ( + ).  "
   ]
  },
  {
   "cell_type": "markdown",
   "id": "6beaf984-9938-4689-bc26-a19816fb38a9",
   "metadata": {
    "tags": []
   },
   "source": [
    "- point 1\n",
    "    - sub point  \n",
    "        * sub sub point\n",
    "* point 2\n",
    "    + sub point  \n",
    "        + sub sub point\n",
    "+ point 3"
   ]
  },
  {
   "cell_type": "markdown",
   "id": "71c77a24-78ef-437e-a66c-f3b3228de26b",
   "metadata": {
    "jupyter": {
     "source_hidden": true
    },
    "tags": []
   },
   "source": [
    "Numbered lists, and sublists, can be added using any numerical value before the text but the value of the first item on the list will indicate the starting point.  "
   ]
  },
  {
   "cell_type": "markdown",
   "id": "52982184-3746-4852-ba8e-2b31c51a8ded",
   "metadata": {},
   "source": [
    "9. point 1\n",
    "    1. sub point 1\n",
    "    1. sub point 2\n",
    "    1. sub point 3\n",
    "5. point 2\n",
    "    - sub point 1 \n",
    "    1. another point\n",
    "8. point 3\n",
    "    1. sub point 1\n",
    "        - sub sub point\n",
    "    - sub point 2"
   ]
  },
  {
   "cell_type": "markdown",
   "id": "acbad706-b07b-4f63-bbd3-d6150c3eb58f",
   "metadata": {
    "tags": []
   },
   "source": [
    "# <span style='color:#eb7325'>Embedding code </span>"
   ]
  },
  {
   "cell_type": "markdown",
   "id": "1b3f4f46-bcd7-4d21-b423-8639e90d2316",
   "metadata": {
    "tags": []
   },
   "source": [
    "1. Use code tags but this will not highlight the syntax in your code"
   ]
  },
  {
   "cell_type": "markdown",
   "id": "4048ed90-780d-4049-b36d-bc6b833e6c80",
   "metadata": {
    "tags": []
   },
   "source": [
    "<code>\n",
    "\n",
    "def add_some_numbers(x, y):\n",
    "    z = x + y\n",
    "    print(z) \n",
    "    \n",
    "</code>"
   ]
  },
  {
   "cell_type": "markdown",
   "id": "ee20fb04-163f-44d8-b02b-dbe2012af4f8",
   "metadata": {
    "tags": []
   },
   "source": [
    "2. Use backticks followed by the name of the programming language"
   ]
  },
  {
   "cell_type": "markdown",
   "id": "3450a5ad-6d51-4285-a02e-36fda3b7761d",
   "metadata": {
    "tags": []
   },
   "source": [
    "```python  \n",
    "def add_some_numbers(x, y):\n",
    "    z = x + y\n",
    "    print(z) \n",
    "```"
   ]
  },
  {
   "cell_type": "markdown",
   "id": "8d39636c-1fad-4dd4-9049-9a9fe374ded9",
   "metadata": {
    "tags": []
   },
   "source": [
    "# <span style='color:#eb7325'>Equations</span>"
   ]
  },
  {
   "cell_type": "markdown",
   "id": "cc876ae5-f0c6-4cef-b871-26b3036da8c6",
   "metadata": {
    "tags": []
   },
   "source": [
    "1. Add $ sign before and after the text"
   ]
  },
  {
   "cell_type": "markdown",
   "id": "e2954cab-1421-4570-92da-062b508b18c4",
   "metadata": {},
   "source": [
    "$e=mc^2$"
   ]
  },
  {
   "cell_type": "markdown",
   "id": "d6e97bd8-1534-4f6a-95e3-d308f590b124",
   "metadata": {
    "tags": []
   },
   "source": [
    "2. Add equation tags before and after your text"
   ]
  },
  {
   "cell_type": "markdown",
   "id": "2f3d2ee9-4e38-471a-8dae-bd12327e5528",
   "metadata": {
    "tags": []
   },
   "source": [
    "\\begin{equation}\n",
    "e=mc^2\n",
    "\\end{equation}"
   ]
  },
  {
   "cell_type": "markdown",
   "id": "5dcbbb1d-860b-4566-81a8-22da5dd68cd4",
   "metadata": {
    "tags": []
   },
   "source": [
    "You need to use LaTeX typsettng system to write the equations.  \n",
    "\n",
    "- [LaTeX website](https://www.latex-project.org/)\n",
    "\n",
    "- [Wikipedia Page on LaTeX/Mathematics](https://en.wikibooks.org/wiki/LaTeX/Mathematics)\n"
   ]
  },
  {
   "cell_type": "markdown",
   "id": "be0f062a-c02c-4f2b-8b44-f8fc21a78829",
   "metadata": {
    "tags": []
   },
   "source": [
    "# <span style='color:#eb7325'>Hyperlinks</span>"
   ]
  },
  {
   "cell_type": "markdown",
   "id": "e80a704d-bb66-4da7-b617-0952198000df",
   "metadata": {},
   "source": [
    "[Jupyter Markdown Documentation Page](https://jupyter-notebook.readthedocs.io/en/stable/examples/Notebook/Working%20With%20Markdown%20Cells.html)"
   ]
  },
  {
   "cell_type": "markdown",
   "id": "8315b1d1-29fb-48ad-9719-86f001b90ce5",
   "metadata": {
    "tags": []
   },
   "source": [
    "# <span style='color:#eb7325'>Images</span>"
   ]
  },
  {
   "cell_type": "markdown",
   "id": "7c748677-4354-4e56-bd37-9ccc84a69475",
   "metadata": {
    "tags": []
   },
   "source": [
    "1. Add images from your directory"
   ]
  },
  {
   "cell_type": "markdown",
   "id": "c53ec279-7f25-41c1-b48b-c9697c372344",
   "metadata": {
    "tags": []
   },
   "source": [
    "<img src=\"Jupyter Logo.png\" width=\"100\" height=\"100\">"
   ]
  },
  {
   "cell_type": "markdown",
   "id": "0f3b10f7-943c-4454-a82e-75439aa97255",
   "metadata": {
    "tags": []
   },
   "source": [
    "2. Add images from the web"
   ]
  },
  {
   "cell_type": "markdown",
   "id": "eaec48f0-9dfe-46c8-8abe-24c221ff39d6",
   "metadata": {
    "tags": []
   },
   "source": [
    "<img src=\"https://www.python.org/static/img/python-logo.png\" width=\"200\" height=\"100\">"
   ]
  },
  {
   "cell_type": "markdown",
   "id": "60fd6451-b20c-43aa-8573-2101ae6b4d31",
   "metadata": {
    "tags": []
   },
   "source": [
    "# <span style='color:#eb7325'>Videos</span>"
   ]
  },
  {
   "cell_type": "markdown",
   "id": "48465277-e51e-443b-b26c-9d6a1a4b55fa",
   "metadata": {
    "tags": []
   },
   "source": [
    "1. Add videos from directory"
   ]
  },
  {
   "cell_type": "markdown",
   "id": "5d67f72e-98e7-44d2-95ec-d707e2a0e98e",
   "metadata": {
    "tags": []
   },
   "source": [
    "<video controls src=\"Freepik Trolley Video.mp4\" width=\"200\" height=\"200\">"
   ]
  },
  {
   "cell_type": "markdown",
   "id": "5ce00c73-2127-49e4-94be-2a2942ddd94a",
   "metadata": {
    "tags": []
   },
   "source": [
    "2. Add YouTube videos via thumbnail\n"
   ]
  },
  {
   "cell_type": "markdown",
   "id": "2ae854d2-31bf-4157-9902-27d6acce3ec7",
   "metadata": {
    "tags": []
   },
   "source": [
    "[<img src=\"https://img.youtube.com/vi/0e3GPea1Tyg/0.jpg\" width=\"300\" height=\"300\">](https://www.youtube.com/watch?v=0e3GPea1Tyg) "
   ]
  },
  {
   "cell_type": "markdown",
   "id": "5392a665-8c53-4055-9a90-42a0d9cd37ff",
   "metadata": {
    "tags": []
   },
   "source": [
    "3. Embed video (outside Markdown cell)"
   ]
  },
  {
   "cell_type": "code",
   "execution_count": 7,
   "id": "7a06d662-90a9-477c-9ff7-a8ed5cf75b74",
   "metadata": {
    "tags": []
   },
   "outputs": [
    {
     "data": {
      "text/html": [
       "<iframe width=\"300\" height=\"200\" src=\"https://www.youtube.com/embed/0e3GPea1Tyg\" title=\"$456,000 Squid Game In Real Life!\" frameborder=\"0\" allow=\"accelerometer; autoplay; clipboard-write; encrypted-media; gyroscope; picture-in-picture; web-share\" allowfullscreen></iframe>\n"
      ],
      "text/plain": [
       "<IPython.core.display.HTML object>"
      ]
     },
     "metadata": {},
     "output_type": "display_data"
    }
   ],
   "source": [
    "%%HTML\n",
    "<iframe width=\"300\" height=\"200\" src=\"https://www.youtube.com/embed/0e3GPea1Tyg\" title=\"$456,000 Squid Game In Real Life!\" frameborder=\"0\" allow=\"accelerometer; autoplay; clipboard-write; encrypted-media; gyroscope; picture-in-picture; web-share\" allowfullscreen></iframe>"
   ]
  },
  {
   "cell_type": "markdown",
   "id": "d87c230e-6157-4e0c-afa6-efb3dbfdec20",
   "metadata": {
    "tags": []
   },
   "source": [
    "# <span style='color:#eb7325'> **THANK YOU FOR WATCHING** </span>\n",
    "\n",
    "- Download a copy of this notebook from our GitHub page\n",
    "- Send us your ideas for future videos\n",
    "- Like, subscribe, donate to support our channel  \n",
    "\n",
    "**Elephant AI**   \n",
    "www.youtube.com/@ElephantAI  \n",
    "www.elephantai.co  \n",
    "[X: @Elephant__AI](https://www.twitter.com/elephant__ai/)"
   ]
  }
 ],
 "metadata": {
  "kernelspec": {
   "display_name": "Python 3 (ipykernel)",
   "language": "python",
   "name": "python3"
  },
  "language_info": {
   "codemirror_mode": {
    "name": "ipython",
    "version": 3
   },
   "file_extension": ".py",
   "mimetype": "text/x-python",
   "name": "python",
   "nbconvert_exporter": "python",
   "pygments_lexer": "ipython3",
   "version": "3.11.3"
  }
 },
 "nbformat": 4,
 "nbformat_minor": 5
}
